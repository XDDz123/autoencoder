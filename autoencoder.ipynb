{
 "cells": [
  {
   "cell_type": "code",
   "execution_count": 5,
   "id": "48cf8c0d",
   "metadata": {
    "id": "PXoKmVFw7XZK"
   },
   "outputs": [],
   "source": [
    "import numpy as np\n",
    "import torch\n",
    "import random\n",
    "from torch.utils.data import Dataset, DataLoader\n",
    "import torch.nn as nn\n",
    "import torch.nn.functional as F\n",
    "import torch.optim as optim\n",
    "from torch.nn import Module\n",
    "from torchvision import datasets, transforms\n",
    "from torch.autograd import Variable\n",
    "import cv2\n",
    "import os\n",
    "from pathlib import Path\n",
    "import torchvision\n",
    "import matplotlib.pyplot as plt\n",
    "from pathlib import Path"
   ]
  },
  {
   "cell_type": "code",
   "execution_count": 9,
   "id": "73e1654b",
   "metadata": {},
   "outputs": [],
   "source": [
    "np.random.seed(123)\n",
    "torch.manual_seed(123)\n",
    "random.seed(123)"
   ]
  },
  {
   "cell_type": "code",
   "execution_count": 10,
   "id": "33552690",
   "metadata": {},
   "outputs": [
    {
     "name": "stdout",
     "output_type": "stream",
     "text": [
      "Using device: cuda\n"
     ]
    }
   ],
   "source": [
    "# setting device on GPU if available, else CPU\n",
    "device = torch.device('cuda' if torch.cuda.is_available() else 'cpu')\n",
    "print('Using device:', device)"
   ]
  },
  {
   "cell_type": "code",
   "execution_count": 11,
   "id": "6b039b7c",
   "metadata": {},
   "outputs": [],
   "source": [
    "models_dir = Path(\"./models\")\n",
    "logs_dir = Path(\"./logs\")\n",
    "\n",
    "models_dir.mkdir(parents=True, exist_ok=True)\n",
    "logs_dir.mkdir(parents=True, exist_ok=True)"
   ]
  },
  {
   "cell_type": "markdown",
   "id": "546f4cb4",
   "metadata": {},
   "source": [
    "### Utility functions"
   ]
  },
  {
   "cell_type": "code",
   "execution_count": 12,
   "id": "77b10953",
   "metadata": {},
   "outputs": [],
   "source": [
    "def plot_images(images, titles, texts):\n",
    "    N_cols = len(images)\n",
    "    N_rows = len(images[0])\n",
    "    \n",
    "    fig, axs = plt.subplots(N_rows, N_cols, figsize=(20, 15))\n",
    "    \n",
    "    if titles is not None:\n",
    "        for i, ax in enumerate(axs[0]):\n",
    "            ax.set_title(titles[i])\n",
    "    \n",
    "    for i, img_col in enumerate(images):\n",
    "        for j, img in enumerate(img_col):\n",
    "            if len(img.shape) == 2:\n",
    "                axs[j,i].imshow(img, interpolation='nearest', cmap='gray')\n",
    "            else:\n",
    "                axs[j,i].imshow(img, interpolation='nearest')\n",
    "            axs[j,i].axis('off')\n",
    "            if texts is not None:\n",
    "                axs[j,i].text(0.5,-0.1, str(texts[j][i])[:4], size=10, ha=\"center\", transform=axs[j,i].transAxes)\n",
    "    plt.show()"
   ]
  },
  {
   "cell_type": "markdown",
   "id": "16d764f9-ec65-46d6-a13e-a2a309bcc7c8",
   "metadata": {},
   "source": [
    "## MNIST"
   ]
  },
  {
   "cell_type": "code",
   "execution_count": 13,
   "id": "4e68fa6b",
   "metadata": {
    "id": "6qjrVBOP99Nu"
   },
   "outputs": [],
   "source": [
    "class AutoEncoder(Module):\n",
    "    \n",
    "    def __init__(self, bottleneck_size, channel_size=1):\n",
    "        super().__init__()\n",
    "        self.bottleneck_size = bottleneck_size\n",
    "        \n",
    "        self.c = channel_size\n",
    "                \n",
    "        # stride used instead of pooling\n",
    "        # seems to run fasters on local machine\n",
    "        self.encode = nn.Sequential(\n",
    "            nn.Conv2d(self.c, 16, 3, stride=1, padding=1),\n",
    "            #nn.BatchNorm2d(16),                        \n",
    "            nn.ReLU(),\n",
    "            nn.Conv2d(16, 32, 3, stride=2, padding=1),\n",
    "            #nn.BatchNorm2d(32),                        \n",
    "            nn.ReLU(),\n",
    "            nn.Conv2d(32, 64, 3, stride=2, padding=1),\n",
    "            #nn.BatchNorm2d(64),                        \n",
    "            nn.ReLU(),\n",
    "            \n",
    "            \n",
    "            nn.Flatten(),\n",
    "            nn.Linear(7 * 7 * 64, bottleneck_size),\n",
    "            nn.ReLU(),\n",
    "            nn.Linear(bottleneck_size, bottleneck_size // 2)\n",
    "        )\n",
    "\n",
    "        # stride used instead of pooling\n",
    "        # seems to run fasters on local machine\n",
    "        self.decode = nn.Sequential(\n",
    "            nn.Linear(bottleneck_size // 2, bottleneck_size),\n",
    "            nn.ReLU(),\n",
    "            nn.Linear(bottleneck_size, 7 * 7 * 64),\n",
    "            nn.ReLU(),\n",
    "            nn.Unflatten(1, torch.Size([64, 7, 7])),   \n",
    "            \n",
    "            \n",
    "            nn.ConvTranspose2d(64, 32, 3, stride=2, padding=1, output_padding=1),\n",
    "            #nn.BatchNorm2d(32),            \n",
    "            nn.ReLU(),\n",
    "            nn.ConvTranspose2d(32, 16, 3, stride=2, padding=1, output_padding=1),\n",
    "            #nn.BatchNorm2d(16),            \n",
    "            nn.ReLU(),\n",
    "            nn.ConvTranspose2d(16, self.c, 3, stride=1, padding=1),\n",
    "            nn.Sigmoid()\n",
    "        )\n",
    "        \n",
    "\n",
    "    \n",
    "    def encoder(self,image):\n",
    "        code = self.encode(image)        \n",
    "        return code\n",
    "    \n",
    "    def decoder(self,code):\n",
    "        decoded_image = self.decode(code)\n",
    "        return decoded_image\n",
    "    \n",
    "    def forward(self,image):\n",
    "        code = self.encoder(image)\n",
    "        decoded_image = self.decoder(code)\n",
    "        \n",
    "        return decoded_image"
   ]
  },
  {
   "cell_type": "code",
   "execution_count": 14,
   "id": "17eaa121",
   "metadata": {
    "id": "8jWTXiLB-8HC"
   },
   "outputs": [],
   "source": [
    "class MNIST(Dataset):\n",
    "    \n",
    "    def __init__(self, dataset_path):\n",
    "        #solution\n",
    "        self.input_imgs = []\n",
    "        \n",
    "        to_tensor = transforms.ToTensor()\n",
    "        \n",
    "        # code for sorting file names from\n",
    "        # https://stackoverflow.com/questions/4813061/non-alphanumeric-list-order-from-os-listdir\n",
    "        \n",
    "        # note loaded imgs are converted to grayscale\n",
    "        # load images\n",
    "        dir = sorted(os.listdir(dataset_path), key=lambda filename: int(filename.split('.')[0]))\n",
    "        for fn in dir:\n",
    "            img = cv2.imread(os.path.join(dataset_path,fn), cv2.IMREAD_GRAYSCALE)\n",
    "            if img is not None:\n",
    "                self.input_imgs.append(to_tensor(img))\n",
    "\n",
    "        #end_solution\n",
    "\n",
    "\n",
    "    def __len__(self):\n",
    "        #solution\n",
    "        length = len(self.input_imgs)\n",
    "        #end_solution\n",
    "\n",
    "        \n",
    "        return length\n",
    "\n",
    "    def __getitem__(self, idx):\n",
    "        #solution\n",
    "        image = self.input_imgs[idx]\n",
    "        #end_solution\n",
    "\n",
    "        \n",
    "        return image"
   ]
  },
  {
   "cell_type": "code",
   "execution_count": 15,
   "id": "9ec50485",
   "metadata": {},
   "outputs": [],
   "source": [
    "class CelebAHQ(Dataset):\n",
    "    \n",
    "    def __init__(self, dataset_path):\n",
    "        self.input_imgs = []\n",
    "        \n",
    "        to_tensor = transforms.ToTensor()\n",
    "        \n",
    "        # code for sorting file names from\n",
    "        # https://stackoverflow.com/questions/4813061/non-alphanumeric-list-order-from-os-listdir\n",
    "        \n",
    "        # note loaded imgs are converted to grayscale\n",
    "        # load images\n",
    "        dir = sorted(os.listdir(dataset_path), key=lambda filename: int(filename.split('.')[0]))\n",
    "        for fn in dir:\n",
    "            img = cv2.imread(os.path.join(dataset_path,fn))\n",
    "            img = cv2.cvtColor(img, cv2.COLOR_BGR2RGB)\n",
    "            if img is not None:\n",
    "                self.input_imgs.append(to_tensor(img))\n",
    "\n",
    "    def __len__(self):\n",
    "        length = len(self.input_imgs)\n",
    "        return length\n",
    "\n",
    "    def __getitem__(self, idx):\n",
    "        image = self.input_imgs[idx]\n",
    "        return image"
   ]
  },
  {
   "cell_type": "markdown",
   "id": "6f409257",
   "metadata": {},
   "source": [
    "Implement the reconstruction loss"
   ]
  },
  {
   "cell_type": "code",
   "execution_count": 16,
   "id": "9fc14412",
   "metadata": {},
   "outputs": [],
   "source": [
    "def reconstruction_loss(prediction, target):\n",
    "    recon_loss = nn.MSELoss()\n",
    "    recon_loss = recon_loss(prediction, target)\n",
    "    return recon_loss"
   ]
  },
  {
   "cell_type": "markdown",
   "id": "5fec2dbe",
   "metadata": {},
   "source": [
    "Create MNIST dataloaders for training and validation"
   ]
  },
  {
   "cell_type": "code",
   "execution_count": 17,
   "id": "fa063044",
   "metadata": {},
   "outputs": [],
   "source": [
    "mnist_train_data_path = Path(\"./Datasets/MNIST/train/\")\n",
    "mnist_train_dataset = MNIST(mnist_train_data_path)\n",
    "\n",
    "mnist_validation_data_path = Path(\"./Datasets/MNIST/val/\")\n",
    "mnist_validation_dataset = MNIST(mnist_validation_data_path)"
   ]
  },
  {
   "cell_type": "markdown",
   "id": "77822005",
   "metadata": {},
   "source": [
    "Create CelebA-HQ dataloaders for training and validation"
   ]
  },
  {
   "cell_type": "code",
   "execution_count": 18,
   "id": "235b2b34",
   "metadata": {},
   "outputs": [],
   "source": [
    "celeba_hq_train_data_path = \"./Datasets/celeba_hq_32/train\"\n",
    "celeba_hq_train_dataset = CelebAHQ(celeba_hq_train_data_path)\n",
    "\n",
    "celeba_hq_validation_data_path = \"./Datasets/celeba_hq_32/val\"\n",
    "celeba_hq_validation_dataset = CelebAHQ(celeba_hq_validation_data_path)"
   ]
  },
  {
   "cell_type": "markdown",
   "id": "237acc7d",
   "metadata": {},
   "source": [
    "Train the AE on MNIST"
   ]
  },
  {
   "cell_type": "code",
   "execution_count": 23,
   "id": "c89a5360",
   "metadata": {
    "id": "siQjWaXJ_DWW"
   },
   "outputs": [],
   "source": [
    "mnist_autoencoder = None\n",
    "torch_train_mnist = DataLoader(mnist_train_dataset,shuffle=True,batch_size=128,num_workers=0)\n",
    "torch_validation_mnist = DataLoader(mnist_validation_dataset,shuffle=True,batch_size=128,num_workers=0)\n",
    "mnist_optimizer = None\n",
    "\n",
    "mnist_autoencoder = AutoEncoder(bottleneck_size=10*10, channel_size=1).to(device)\n",
    "mnist_optimizer = torch.optim.Adam(mnist_autoencoder.parameters(), lr=1e-3, weight_decay=1e-4)\n",
    "\n",
    "epoch = 50\n",
    "\n",
    "for e in range(epoch):\n",
    "    ls = 0\n",
    "    mnist_autoencoder.train()\n",
    "    for img in torch_train_mnist:\n",
    "        img = img.to(device)\n",
    "        \n",
    "        # generate denoised image\n",
    "        decoded_img = mnist_autoencoder(img)\n",
    "\n",
    "        # compute loss\n",
    "        loss = reconstruction_loss(img, decoded_img)\n",
    "\n",
    "        # backward pass\n",
    "        mnist_optimizer.zero_grad()\n",
    "        loss.backward()\n",
    "        mnist_optimizer.step()\n",
    "        \n",
    "        # accumulate loss\n",
    "        ls += loss\n",
    "    \n",
    "    vl = 0\n",
    "    mnist_autoencoder.eval()\n",
    "    for val in torch_validation_mnist:\n",
    "        val = val.to(device)\n",
    "        d_img = mnist_autoencoder(val)\n",
    "        \n",
    "        # accumulate loss\n",
    "        vl += reconstruction_loss(val, d_img) \n",
    "        \n",
    "    #print(e, 'train', ls, 'validation', vl)      \n"
   ]
  },
  {
   "cell_type": "markdown",
   "id": "30eb1975",
   "metadata": {},
   "source": [
    "Save trained model (needed for marking)"
   ]
  },
  {
   "cell_type": "code",
   "execution_count": 24,
   "id": "b3549a61",
   "metadata": {},
   "outputs": [],
   "source": [
    "torch.save(mnist_autoencoder, \"models/ex3b.pth\")"
   ]
  },
  {
   "cell_type": "markdown",
   "id": "80da23c8",
   "metadata": {},
   "source": [
    "Load trained model"
   ]
  },
  {
   "cell_type": "code",
   "execution_count": 25,
   "id": "3d5c5010",
   "metadata": {},
   "outputs": [],
   "source": [
    "mnist_autoencoder = torch.load(\"models/ex3b.pth\")"
   ]
  },
  {
   "cell_type": "markdown",
   "id": "61c44bb8",
   "metadata": {},
   "source": [
    "Showing, for 5 samples in the validation set, the input and the AE reconstruction, side-by-side."
   ]
  },
  {
   "cell_type": "code",
   "execution_count": 26,
   "id": "792e4620",
   "metadata": {
    "scrolled": true
   },
   "outputs": [
    {
     "data": {
      "image/png": "[encoded data removed]",
      "text/plain": [
       "<Figure size 2000x1500 with 10 Axes>"
      ]
     },
     "metadata": {},
     "output_type": "display_data"
    }
   ],
   "source": [
    "indices = np.random.choice(range(len(mnist_validation_dataset)), 5, replace=False)\n",
    "mnist_random_images = [mnist_validation_dataset[idx] for idx in indices]\n",
    "batch = torch.stack(mnist_random_images, dim=0)\n",
    "gt_img = batch.to(device)\n",
    "\n",
    "# run the autoencoder:\n",
    "mnist_autoencoder.eval()\n",
    "pred_img = mnist_autoencoder(gt_img)\n",
    "\n",
    "# plot the images:\n",
    "imgs_plot = [ el.cpu().squeeze().numpy() for el in gt_img]\n",
    "pred_plot = [ el.cpu().detach().squeeze().numpy() for el in pred_img]\n",
    "\n",
    "plot_images([imgs_plot, pred_plot], [\"Input\", \"AE reconstruction\"], None)\n",
    "plt.show()\n",
    "plt.close()"
   ]
  },
  {
   "cell_type": "markdown",
   "id": "e63c9a80-19a8-4c6d-b3cb-856d2991177c",
   "metadata": {},
   "source": [
    "## CelebA-HQ"
   ]
  },
  {
   "cell_type": "code",
   "execution_count": 27,
   "id": "be2ad3f4",
   "metadata": {},
   "outputs": [],
   "source": [
    "#solution\n",
    "class AutoEncoder(Module):\n",
    "    \n",
    "    def __init__(self, bottleneck_size, channel_size=1):\n",
    "        super().__init__()\n",
    "        self.bottleneck_size = bottleneck_size\n",
    "        \n",
    "        self.c = channel_size\n",
    "                \n",
    "        # stride used instead of pooling\n",
    "        # seems to run fasters on local machine\n",
    "        self.encode = nn.Sequential(\n",
    "            nn.Conv2d(self.c, 16, 3, stride=1, padding=1),\n",
    "            nn.BatchNorm2d(16),                        \n",
    "            nn.ReLU(),\n",
    "            nn.Conv2d(16, 32, 3, stride=2, padding=1),\n",
    "            nn.BatchNorm2d(32),                        \n",
    "            nn.ReLU(),\n",
    "            nn.Conv2d(32, 64, 3, stride=2, padding=1),\n",
    "            nn.BatchNorm2d(64),                        \n",
    "            nn.ReLU(),\n",
    "            \n",
    "            # bottleneck layers\n",
    "            nn.Flatten(),\n",
    "            nn.Linear(8 * 8 * 64, bottleneck_size),\n",
    "        )\n",
    "\n",
    "        # stride used instead of pooling\n",
    "        # seems to run fasters on local machine\n",
    "        self.decode = nn.Sequential(\n",
    "            nn.Linear(bottleneck_size, 8 * 8 * 64),\n",
    "            nn.ReLU(),\n",
    "            nn.Unflatten(1, torch.Size([64, 8, 8])),   \n",
    "            # exits bottleneck layers           \n",
    "            \n",
    "            nn.ConvTranspose2d(64, 32, 3, stride=2, padding=1, output_padding=1),\n",
    "            nn.BatchNorm2d(32),            \n",
    "            nn.ReLU(),\n",
    "            nn.ConvTranspose2d(32, 16, 3, stride=2, padding=1, output_padding=1),\n",
    "            nn.BatchNorm2d(16),            \n",
    "            nn.ReLU(),\n",
    "            nn.ConvTranspose2d(16, self.c, 3, stride=1, padding=1),\n",
    "            nn.Sigmoid()\n",
    "        )\n",
    "        \n",
    "    \n",
    "    def encoder(self,image):        \n",
    "        code = self.encode(image)        \n",
    "        return code\n",
    "    \n",
    "    def decoder(self,code):\n",
    "        decoded_image = self.decode(code)\n",
    "        return decoded_image\n",
    "    \n",
    "    def forward(self,image):\n",
    "        code = self.encoder(image)\n",
    "        decoded_image = self.decoder(code)\n",
    "        return decoded_image\n"
   ]
  },
  {
   "cell_type": "code",
   "execution_count": 28,
   "id": "65e06038",
   "metadata": {},
   "outputs": [],
   "source": [
    "celeba_hq_autoencoder = None \n",
    "torch_train_celeba_hq = DataLoader(celeba_hq_train_dataset, shuffle=True, batch_size=128, num_workers=0)\n",
    "torch_validation_celeba_hq = DataLoader(celeba_hq_validation_dataset, shuffle=True, batch_size=128, num_workers=0)\n",
    "celeba_hq_optimizer = None \n",
    "\n",
    "\n",
    "celeba_hq_autoencoder = AutoEncoder(bottleneck_size=10*10, channel_size=3).to(device)\n",
    "celeba_hq_optimizer = torch.optim.Adam(celeba_hq_autoencoder.parameters(), lr=1e-3, weight_decay=1e-4)\n",
    "\n",
    "epoch = 50\n",
    "\n",
    "for e in range(epoch):\n",
    "    ls = 0\n",
    "    celeba_hq_autoencoder.train()\n",
    "    for img in torch_train_celeba_hq:\n",
    "        #print(img.shape)\n",
    "        img = img.to(device)\n",
    "\n",
    "        # generate denoised image\n",
    "        decoded_img = celeba_hq_autoencoder(img)\n",
    "\n",
    "        # compute loss\n",
    "        loss = reconstruction_loss(img, decoded_img)\n",
    "\n",
    "        # backward pass\n",
    "        celeba_hq_optimizer.zero_grad()\n",
    "        loss.backward()\n",
    "        celeba_hq_optimizer.step()\n",
    "        \n",
    "        # accumulate loss\n",
    "        ls += loss\n",
    "    \n",
    "    vl = 0\n",
    "    celeba_hq_autoencoder.eval()\n",
    "    for val in torch_validation_celeba_hq:\n",
    "        val = val.to(device)\n",
    "        d_img = celeba_hq_autoencoder(val)\n",
    "        \n",
    "        # accumulate loss\n",
    "        vl += reconstruction_loss(val, d_img) \n",
    "        \n",
    "    #print(e, 'train', ls / len(torch_train_celeba_hq), 'validation', vl / len(torch_validation_celeba_hq))      \n",
    "\n"
   ]
  },
  {
   "cell_type": "markdown",
   "id": "b7b4bf35",
   "metadata": {},
   "source": [
    "\n",
    "\n",
    "\n",
    "Save the trained model (Needed for marking)"
   ]
  },
  {
   "cell_type": "code",
   "execution_count": 29,
   "id": "30753fe1",
   "metadata": {},
   "outputs": [],
   "source": [
    "torch.save(celeba_hq_autoencoder, \"models/ex3c.pth\")"
   ]
  },
  {
   "cell_type": "markdown",
   "id": "d8085eda",
   "metadata": {},
   "source": [
    "Load the trained model"
   ]
  },
  {
   "cell_type": "code",
   "execution_count": 30,
   "id": "45aa9378",
   "metadata": {},
   "outputs": [],
   "source": [
    "celeba_hq_autoencoder = torch.load(\"models/ex3c.pth\")"
   ]
  },
  {
   "cell_type": "markdown",
   "id": "2f5f46a1",
   "metadata": {},
   "source": [
    "Showing for 5 samples in the validation set, the input and AE reconstruction, side-by-side."
   ]
  },
  {
   "cell_type": "code",
   "execution_count": 31,
   "id": "e4047344",
   "metadata": {},
   "outputs": [
    {
     "data": {
      "image/png": "[encoded data removed]",
      "text/plain": [
       "<Figure size 2000x1500 with 10 Axes>"
      ]
     },
     "metadata": {},
     "output_type": "display_data"
    }
   ],
   "source": [
    "indices = np.random.choice(range(len(celeba_hq_validation_dataset)), 5, replace=False)\n",
    "celeba_hq_random_images = [celeba_hq_validation_dataset[idx] for idx in indices]\n",
    "batch = torch.stack(celeba_hq_random_images, dim=0)\n",
    "gt_img = batch.to(device)\n",
    "\n",
    "# run the autoencoder:\n",
    "celeba_hq_autoencoder.eval()\n",
    "pred_img = celeba_hq_autoencoder(gt_img)\n",
    "\n",
    "# plot the images:\n",
    "imgs_plot = [ el.cpu().permute(1, 2, 0).numpy() for el in gt_img]\n",
    "pred_plot = [ el.cpu().detach().permute(1, 2, 0).numpy() for el in pred_img]\n",
    "\n",
    "plot_images([imgs_plot, pred_plot], [\"Input\", \"AE reconstruction\"], None)\n",
    "plt.show()\n",
    "plt.close()"
   ]
  }
 ],
 "metadata": {
  "kernelspec": {
   "display_name": "Python 3 (ipykernel)",
   "language": "python",
   "name": "python3"
  },
  "language_info": {
   "codemirror_mode": {
    "name": "ipython",
    "version": 3
   },
   "file_extension": ".py",
   "mimetype": "text/x-python",
   "name": "python",
   "nbconvert_exporter": "python",
   "pygments_lexer": "ipython3",
   "version": "3.11.5"
  }
 },
 "nbformat": 4,
 "nbformat_minor": 5
}
